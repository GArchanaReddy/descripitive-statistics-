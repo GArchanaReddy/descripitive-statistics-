{
 "cells": [
  {
   "cell_type": "markdown",
   "id": "f1441b79",
   "metadata": {},
   "source": [
    "# DESCRIPITIVE STATISTICS"
   ]
  },
  {
   "cell_type": "markdown",
   "id": "33767c1b",
   "metadata": {},
   "source": [
    "In Descriptive statistics, we are describing our data with the help of various representative methods using charts, graphs, tables, excel files, etc.\n"
   ]
  },
  {
   "cell_type": "markdown",
   "id": "c92f8060",
   "metadata": {},
   "source": [
    "we describe our data in some manner and present it in a meaningful way so that it can be easily understood.\n",
    "Some measures that are used to describe a data set are measures of central tendency and measures of variability or dispersion."
   ]
  },
  {
   "cell_type": "markdown",
   "id": "63e7739c",
   "metadata": {},
   "source": [
    "# TYPES OF DESCRIPITIVE STATISTICS "
   ]
  },
  {
   "cell_type": "markdown",
   "id": "d969710d",
   "metadata": {},
   "source": [
    "1)Measure of central tendency \n",
    "2)Measure of variablity\n",
    "3)Measure of frequency distribution"
   ]
  },
  {
   "cell_type": "markdown",
   "id": "762582c7",
   "metadata": {},
   "source": [
    "Measure of central tendency:"
   ]
  },
  {
   "cell_type": "markdown",
   "id": "d06c5101",
   "metadata": {},
   "source": [
    "It reprsents the whole set of data by a single value .\n",
    "there are three main measure of central tendency\n"
   ]
  },
  {
   "cell_type": "markdown",
   "id": "21769748",
   "metadata": {},
   "source": [
    "1) mean "
   ]
  },
  {
   "cell_type": "markdown",
   "id": "ed719e7b",
   "metadata": {},
   "source": [
    "2. Median"
   ]
  },
  {
   "cell_type": "markdown",
   "id": "d39e45fb",
   "metadata": {},
   "source": [
    "3. mode"
   ]
  },
  {
   "cell_type": "markdown",
   "id": "4be0d40c",
   "metadata": {},
   "source": [
    "# Mean"
   ]
  },
  {
   "cell_type": "markdown",
   "id": "04ef6b61",
   "metadata": {},
   "source": [
    "It is the summ of observation divide by the total number of observation . It is also defined as average which isb the sum divided by count"
   ]
  },
  {
   "cell_type": "markdown",
   "id": "2c5ac562",
   "metadata": {},
   "source": [
    "# median"
   ]
  },
  {
   "cell_type": "markdown",
   "id": "dc25d345",
   "metadata": {},
   "source": [
    "It is the middle value of the data set.\n",
    "It  splits in data into two halves.\n",
    "If the number of elements in the data set is odd then the center element is the median.\n",
    "mid value"
   ]
  },
  {
   "cell_type": "markdown",
   "id": "369a1f9f",
   "metadata": {},
   "source": [
    "# Mode "
   ]
  },
  {
   "cell_type": "markdown",
   "id": "e7543e80",
   "metadata": {},
   "source": [
    " most frequently occuring value.\n",
    "it is the value that has the highest frequency  in the given data.   \n",
    "    "
   ]
  },
  {
   "cell_type": "markdown",
   "id": "e8dad58f",
   "metadata": {},
   "source": [
    "#  Measure  of variablity"
   ]
  },
  {
   "cell_type": "markdown",
   "id": "79759e7f",
   "metadata": {},
   "source": [
    "# * Range"
   ]
  },
  {
   "cell_type": "markdown",
   "id": "8bc5e54f",
   "metadata": {},
   "source": [
    "# * variance"
   ]
  },
  {
   "cell_type": "markdown",
   "id": "b9786773",
   "metadata": {},
   "source": [
    "# * standard deviation"
   ]
  },
  {
   "cell_type": "markdown",
   "id": "ad094203",
   "metadata": {},
   "source": [
    "# Range\n"
   ]
  },
  {
   "cell_type": "markdown",
   "id": "c136c814",
   "metadata": {},
   "source": [
    "The  range describes the difference between the largest and smallest data point in our data set."
   ]
  },
  {
   "cell_type": "markdown",
   "id": "41b49a67",
   "metadata": {},
   "source": [
    "range = largest data value - smallest data value "
   ]
  },
  {
   "cell_type": "markdown",
   "id": "b9fdb7f8",
   "metadata": {},
   "source": [
    "# Variance"
   ]
  },
  {
   "cell_type": "markdown",
   "id": "08fa2b61",
   "metadata": {},
   "source": [
    "It is defined of an average deviation from the mean.\n",
    "the difference between every data  and the average which is also know as the mean squarring them adding of then diving the number of data ."
   ]
  },
  {
   "cell_type": "markdown",
   "id": "5bd191c0",
   "metadata": {},
   "source": [
    "# Standard deviation"
   ]
  },
  {
   "cell_type": "markdown",
   "id": "e9bc622b",
   "metadata": {},
   "source": [
    "The standard deviation of a data set is the positive square root of the variance.\n",
    "It is measured in the same units as the data, making it more easily comparable, than the variance, to the mean.\n",
    "If the data set is a sample, the standard deviation is denoted s.\n",
    "If the data set is a population, the standard deviation is denoted s (sigma)."
   ]
  },
  {
   "cell_type": "markdown",
   "id": "25d20b78",
   "metadata": {},
   "source": [
    "# 2.) measures of variability or dispersion."
   ]
  },
  {
   "cell_type": "markdown",
   "id": "b57db737",
   "metadata": {},
   "source": [
    "Measures of Dispersion is the numbers that are used to represent the scattering of the data. These are the numbers that show the various aspects of the data spread across various parameters\n",
    "Measures of Dispersion is a non-negative real number that gives various parameters of the data. The measure of dispersion will be zero when the dispersion of the data set will be zero. If we have dispersion in the given data then, these numbers which give the attributes of the data set are the measure of dispersion."
   ]
  },
  {
   "cell_type": "markdown",
   "id": "524ad007",
   "metadata": {},
   "source": [
    "# Types of measure despersion"
   ]
  },
  {
   "cell_type": "markdown",
   "id": "9c64b00e",
   "metadata": {},
   "source": [
    "Measures of dispersion can be classified into two categories shown below:\n",
    "\n",
    "Absolute Measures of Dispersion\n",
    "Relative Measures of Dispersion\n",
    "These measures of dispersion can be further divided into various categories. The measures of dispersion have various parameters and these parameters have the same unit."
   ]
  },
  {
   "cell_type": "markdown",
   "id": "06bb3133",
   "metadata": {},
   "source": [
    "# Absolute Measure of dispersion"
   ]
  },
  {
   "cell_type": "markdown",
   "id": "6556bbe6",
   "metadata": {},
   "source": [
    "i) Range\n",
    "\n",
    "(ii) Mean deviation\n",
    "\n",
    "(iii) Standard Deviation\n",
    "\n",
    "(iv) Variance\n",
    "\n",
    "(v) Quratile Deviation"
   ]
  },
  {
   "cell_type": "markdown",
   "id": "02d71f2b",
   "metadata": {},
   "source": [
    "# Range"
   ]
  },
  {
   "cell_type": "markdown",
   "id": "2bff5548",
   "metadata": {},
   "source": [
    "The range of a data set is the difference between the largest and smallest data values.\n",
    "It is the simplest measure of variability.\n",
    "It is very sensitive to the smallest and largest data values.\n",
    "Range = X max – X min"
   ]
  },
  {
   "cell_type": "markdown",
   "id": "cc63c9fa",
   "metadata": {},
   "source": [
    "# mean deviation"
   ]
  },
  {
   "cell_type": "markdown",
   "id": "e7fcfdb1",
   "metadata": {},
   "source": [
    "Mean Deviation is the arithmetic mean of the difference between the values and their mean.\n",
    "\n",
    "The mean deviation of a given standard distribution is the average of the deviation from the central tendency. Central Tendency can be computed using the Arithmetic Mean, Median, or Mode of the data. It is used to show how far the observations are situated from the central point of the data (the central point can be either mean, median or mode)."
   ]
  },
  {
   "cell_type": "markdown",
   "id": "79e0ee66",
   "metadata": {},
   "source": [
    "# standard Deviation "
   ]
  },
  {
   "cell_type": "markdown",
   "id": "033c0b0f",
   "metadata": {},
   "source": [
    "The standard deviation of a data set is the positive square root of the variance.\n",
    "It is measured in the same units as the data, making it more easily comparable, than the variance, to the mean.\n",
    "If the data set is a sample, the standard deviation is denoted s.\n",
    "If the data set is a population, the standard deviation is denoted s (sigma)."
   ]
  },
  {
   "cell_type": "markdown",
   "id": "ce2593c5",
   "metadata": {},
   "source": [
    "# variance"
   ]
  },
  {
   "cell_type": "markdown",
   "id": "811dfa2d",
   "metadata": {},
   "source": [
    "The variance is a measure of variability that utilizes all the data.\n",
    "It is based on the difference between the value of each observation (xi) and the mean (x for a sample, m for a population)."
   ]
  },
  {
   "cell_type": "markdown",
   "id": "4490dc80",
   "metadata": {},
   "source": [
    "The are two types of variance used in statistics,\n",
    "Sample Variance\n",
    "Population Variance\n",
    "Sample Mean\n",
    "Sample Data: 12,18,25,69,45 Sample Mean: [(12+18+25+69+45)/5] = 33.80\n",
    "\n",
    "Population Mean\n",
    "Population Data: 55,46,78,12,18,33,28,45,25,69,66 Population Mean: [(55+46+78+12+18+33+28+45+25+69+66)/11)] = 43.18"
   ]
  },
  {
   "cell_type": "markdown",
   "id": "742b4cc2",
   "metadata": {},
   "source": [
    "# quartile deviation"
   ]
  },
  {
   "cell_type": "code",
   "execution_count": null,
   "id": "21bc277f",
   "metadata": {},
   "outputs": [],
   "source": [
    "quartile deviation is defined as half the difference between third quartile and the first quartile in the given data."
   ]
  },
  {
   "cell_type": "markdown",
   "id": "d6847f3f",
   "metadata": {},
   "source": [
    "# Skewness"
   ]
  },
  {
   "cell_type": "markdown",
   "id": "0ee634e8",
   "metadata": {},
   "source": [
    "Skewness characterizes the degree of asymmetry of a distribution around its mean.\n",
    "\n",
    "The concept of skewness is mainly used to understand the distribution of the data and steps taken to normalize the data for further building of machine learning models.\n",
    "\n",
    "In case of negatively skewed data, Mean<Median<Mode. This indicates, more data points are to the right of the curve where the data has very high values in large numbers.\n",
    "In case of positively skewed data, Mode<Median<Mean. This means that more data points are to the left of the curve where the data has very low values in large numbers."
   ]
  }
 ],
 "metadata": {
  "kernelspec": {
   "display_name": "Python 3 (ipykernel)",
   "language": "python",
   "name": "python3"
  },
  "language_info": {
   "codemirror_mode": {
    "name": "ipython",
    "version": 3
   },
   "file_extension": ".py",
   "mimetype": "text/x-python",
   "name": "python",
   "nbconvert_exporter": "python",
   "pygments_lexer": "ipython3",
   "version": "3.11.5"
  }
 },
 "nbformat": 4,
 "nbformat_minor": 5
}
